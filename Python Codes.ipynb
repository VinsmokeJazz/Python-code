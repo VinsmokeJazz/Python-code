{
 "cells": [
  {
   "cell_type": "markdown",
   "metadata": {},
   "source": [
    "###  1.) Program which accepts a sequence of comma separated 4 digit binary numbers as its input and then check whether they are divisible by 5 or not. The numbers that are divisible by 5 are to be printed in a comma separated sequence"
   ]
  },
  {
   "cell_type": "code",
   "execution_count": 68,
   "metadata": {},
   "outputs": [
    {
     "name": "stdout",
     "output_type": "stream",
     "text": [
      "0100,0011,1010,1001,1111\n",
      "1010,1111\n"
     ]
    }
   ],
   "source": [
    "Binary_num = []    # Creating an Empty list. \n",
    "nums = [x for x in input().split(',')]  # Assigning 'x' values with 4 digit binary numbers as input with comma seperated.\n",
    "for i in nums:\n",
    "    x = int(i, 2)   #Converting the Binary number into decimal to check whether it is divisible by 5.\n",
    "    if x % 5 == 0:\n",
    "        Binary_num.append(i)   #Append the Binary numbers that are divisible by 5 into an empty list. \n",
    "print(','.join(Binary_num))    #Print all the Binary numbers in a comma seperated manner."
   ]
  },
  {
   "cell_type": "markdown",
   "metadata": {},
   "source": [
    "<br>\n",
    "\n",
    "### 2.) A website requires the users to input username and password to register. Write a program to check the validity of password input by users. Following are the criteria for checking the password: \n",
    " 1. At least 1 letter between [a-z] \n",
    " 2. At least 1 number between [0-9] \n",
    " 1. At least 1 letter between [A-Z] \n",
    " 3. At least 1 character from [$#@] \n",
    " 4. Minimum length of transaction password: 6 \n",
    " 5. Maximum length of transaction password: 12 \n",
    " Your program should accept a sequence of comma separated passwords and will check them according to the above criteria. Passwords that match the criteria are to be printed, each separated by a comma. "
   ]
  },
  {
   "cell_type": "code",
   "execution_count": 45,
   "metadata": {},
   "outputs": [],
   "source": [
    "import re"
   ]
  },
  {
   "cell_type": "code",
   "execution_count": 66,
   "metadata": {},
   "outputs": [
    {
     "name": "stdout",
     "output_type": "stream",
     "text": [
      "DarunN123,Darun#najath13,vinsmokeJa12,jazz123#J\n",
      "Darun#najath13,jazz123#J\n"
     ]
    }
   ],
   "source": [
    "passwords = []   # Creating an Empty list. \n",
    "len_flag = a_z_flag = A_Z_flag = num_flag = spcl_flag = False  \n",
    "\n",
    "pwds = [x for x in input().split(',')]   # Assigning 'x' values with passwords as input with comma seperated.\n",
    "\n",
    "for i in pwds:\n",
    "    # Checking for length(<6 and >12),letter between [a-z],letter between [a-z],numbers between [0-9],character from [$#@] \n",
    "    if((len(i) > 6) and (len(i) < 12)):  \n",
    "        len_flag = True\n",
    "    if re.search('[a-z]',i):\n",
    "        a_z_flag = True\n",
    "    if re.search('[A-Z]',i):\n",
    "        A_Z_flag = True\n",
    "    if re.search('[0-9]',i):\n",
    "        num_flag = True\n",
    "    if re.search('[#$@]',i):\n",
    "        spcl_flag = True\n",
    "            \n",
    "    if len_flag == True & a_z_flag == True & A_Z_flag == True & num_flag == True & spcl_flag == True:\n",
    "            passwords.append(i)\n",
    "            len_flag = a_z_flag = A_Z_flag = num_flag = spcl_flag = False\n",
    "        \n",
    "print(','.join(passwords))"
   ]
  },
  {
   "cell_type": "markdown",
   "metadata": {},
   "source": [
    "<br>\n",
    "\n",
    " ### 3.) You are required to write a program to sort the (name, age, height) tuples by ascending order where name is string, age and height are numbers. The tuples are input  by console. The sort criteria is: \n",
    " 1. Sort based on name; \n",
    " 2. Then sort based on age; \n",
    " 3. Then sort by score"
   ]
  },
  {
   "cell_type": "code",
   "execution_count": 48,
   "metadata": {
    "scrolled": true
   },
   "outputs": [
    {
     "name": "stdout",
     "output_type": "stream",
     "text": [
      "Enter the tuble value size: 5\n",
      "enter tuple value: ('Tom',19,80)\n",
      "enter tuple value: ('John',20,90)\n",
      "enter tuple value: ('Jony',17,91)\n",
      "enter tuple value: ('Jony',17,93)\n",
      "enter tuple value: ('Json',21,85)\n",
      "**********************************\n",
      "Before Sorting\n",
      "[\"('Tom',19,80)\", \"('John',20,90)\", \"('Jony',17,91)\", \"('Jony',17,93)\", \"('Json',21,85)\"]\n",
      "After Sorting\n"
     ]
    },
    {
     "data": {
      "text/plain": [
       "[\"('John',20,90)\",\n",
       " \"('Jony',17,91)\",\n",
       " \"('Jony',17,93)\",\n",
       " \"('Json',21,85)\",\n",
       " \"('Tom',19,80)\"]"
      ]
     },
     "execution_count": 48,
     "metadata": {},
     "output_type": "execute_result"
    }
   ],
   "source": [
    "list_val = []\n",
    "num_limit = int(input('Enter the tuble value size: '))\n",
    "for n in range(num_limit):\n",
    "    value = input('enter tuple value: ')\n",
    "    list_val.append(value)\n",
    "print('**********************************', end='\\n')\n",
    "print('Before Sorting', end='\\n')\n",
    "print(list_val, end='\\n')\n",
    "print('After Sorting')\n",
    "sorted(list_val)\n"
   ]
  },
  {
   "cell_type": "code",
   "execution_count": null,
   "metadata": {},
   "outputs": [],
   "source": []
  }
 ],
 "metadata": {
  "kernelspec": {
   "display_name": "Python 3",
   "language": "python",
   "name": "python3"
  },
  "language_info": {
   "codemirror_mode": {
    "name": "ipython",
    "version": 3
   },
   "file_extension": ".py",
   "mimetype": "text/x-python",
   "name": "python",
   "nbconvert_exporter": "python",
   "pygments_lexer": "ipython3",
   "version": "3.7.3"
  }
 },
 "nbformat": 4,
 "nbformat_minor": 2
}
